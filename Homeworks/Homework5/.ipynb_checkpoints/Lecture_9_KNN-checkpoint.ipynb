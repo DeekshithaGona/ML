{
 "cells": [
  {
   "cell_type": "markdown",
   "id": "a4c37e80",
   "metadata": {},
   "source": [
    "# K-Nearest Neighbors Algorithm (Classification)\n",
    "\n",
    " 1) Create a K-NN model from scratch \n",
    "\n",
    " 2) Use sklearn to implement K-NN \n",
    " \n",
    " 3) Use sklearn to implement K-NN; use GridSearchCV and RandomizedSearchCV to select hyper-parameters\n",
    " \n",
    " 4) Use sklearn to implement K-NN and mlxtend to plot the desicion boundary"
   ]
  },
  {
   "cell_type": "markdown",
   "id": "ba86dfb4",
   "metadata": {},
   "source": [
    "## 1) Create a K-NN model from scratch "
   ]
  },
  {
   "cell_type": "code",
   "execution_count": 1,
   "id": "5dc40bea",
   "metadata": {},
   "outputs": [],
   "source": [
    "import numpy as np\n",
    "import pandas as pd\n",
    "import matplotlib.pyplot as plt\n",
    "import seaborn as sns\n",
    "\n",
    "from sklearn.model_selection import train_test_split"
   ]
  },
  {
   "cell_type": "code",
   "execution_count": 2,
   "id": "3a544496",
   "metadata": {},
   "outputs": [],
   "source": [
    "df = sns.load_dataset(\"iris\")"
   ]
  },
  {
   "cell_type": "code",
   "execution_count": 3,
   "id": "d1afd9d3",
   "metadata": {},
   "outputs": [
    {
     "data": {
      "image/png": "[encoded data removed]",
      "text/plain": [
       "<Figure size 576x432 with 1 Axes>"
      ]
     },
     "metadata": {
      "needs_background": "light"
     },
     "output_type": "display_data"
    }
   ],
   "source": [
    "df1 = df[df.species==\"setosa\"]\n",
    "df2 = df[df.species==\"versicolor\"]\n",
    "df3 = df[df.species==\"virginica\"]\n",
    "\n",
    "plt.figure(figsize = (8, 6))\n",
    "\n",
    "plt.scatter(df1.sepal_length, df1.sepal_width, color=\"red\", label =\"setosa\")\n",
    "plt.scatter(df2.sepal_length, df2.sepal_width, color=\"blue\", label=\"versicolor\")\n",
    "plt.scatter(df3.sepal_length, df3.sepal_width, color=\"green\", label=\"virginica\")\n",
    "plt.xlabel(\"sepal length\", fontsize=15)\n",
    "plt.ylabel(\"sepal width\", fontsize=15)\n",
    "plt.legend(fontsize=15);"
   ]
  },
  {
   "cell_type": "code",
   "execution_count": 4,
   "id": "e90bd57e",
   "metadata": {},
   "outputs": [],
   "source": [
    "X = df[[\"sepal_length\", \"sepal_width\"]].to_numpy()\n",
    "\n",
    "y = df[\"species\"].to_numpy()"
   ]
  },
  {
   "cell_type": "markdown",
   "id": "3a170a6c",
   "metadata": {},
   "source": [
    "---\n",
    "\n",
    "**Remark**: In machine learning we fit the model to the **training data** and we choose optimal hyper-parameters using the **validation data**. Then with those choices of hyper-parameters, we fit the model again to the training data, and we evaluate and report model prformance on the **test data**. \n",
    "\n",
    "---"
   ]
  },
  {
   "cell_type": "code",
   "execution_count": 5,
   "id": "f2f66f9d",
   "metadata": {},
   "outputs": [],
   "source": [
    "X_train_full, X_test, y_train_full, y_test = train_test_split(X, y, test_size=0.2, random_state=42)\n",
    "\n",
    "X_train, X_valid, y_train, y_valid = train_test_split(X_train_full, y_train_full, test_size=0.25, random_state=42)"
   ]
  },
  {
   "cell_type": "code",
   "execution_count": 8,
   "id": "347a4006",
   "metadata": {},
   "outputs": [
    {
     "data": {
      "text/plain": [
       "(90, 2)"
      ]
     },
     "execution_count": 8,
     "metadata": {},
     "output_type": "execute_result"
    }
   ],
   "source": [
    "X_train.shape"
   ]
  },
  {
   "cell_type": "code",
   "execution_count": 7,
   "id": "b147c4cc",
   "metadata": {},
   "outputs": [
    {
     "data": {
      "text/plain": [
       "(30, 2)"
      ]
     },
     "execution_count": 7,
     "metadata": {},
     "output_type": "execute_result"
    }
   ],
   "source": [
    "X_valid.shape"
   ]
  },
  {
   "cell_type": "code",
   "execution_count": 6,
   "id": "3957d655",
   "metadata": {},
   "outputs": [
    {
     "data": {
      "text/plain": [
       "(30, 2)"
      ]
     },
     "execution_count": 6,
     "metadata": {},
     "output_type": "execute_result"
    }
   ],
   "source": [
    "X_test.shape"
   ]
  },
  {
   "cell_type": "code",
   "execution_count": 9,
   "id": "82a54e52",
   "metadata": {},
   "outputs": [
    {
     "name": "stdout",
     "output_type": "stream",
     "text": [
      "The distance between X_train[0] and X_train[1] is 3.026549190084311\n"
     ]
    }
   ],
   "source": [
    "# We define Euclidean distance function\n",
    "\n",
    "def distance(p, q):\n",
    "    return np.sqrt((p - q) @ (p - q))\n",
    "\n",
    "print(f\"The distance between X_train[0] and X_train[1] is {distance(X_train[0], X_train[1])}\")"
   ]
  },
  {
   "cell_type": "code",
   "execution_count": 10,
   "id": "f8f58403",
   "metadata": {},
   "outputs": [],
   "source": [
    "# We define a function that will create a list of k nearest neighbors from the training data set to a given test point\n",
    "# For each such neighbor, this list will store: features of that neighbor, its label, and its distance to the test point\n",
    "\n",
    "def k_nearest_neighbors(point, \n",
    "                        training_features, \n",
    "                        training_labels, \n",
    "                        k):\n",
    "\n",
    "    neighbors = []\n",
    "    \n",
    "    for p, l in zip(training_features, training_labels):\n",
    "        d = distance(point, p)\n",
    "        info = [p, l, d]\n",
    "        neighbors.append(info)\n",
    "        \n",
    "    neighbors.sort(key = lambda x : x[-1])\n",
    "    \n",
    "    return neighbors[:k]"
   ]
  },
  {
   "cell_type": "code",
   "execution_count": 11,
   "id": "2cbb6c6a",
   "metadata": {},
   "outputs": [
    {
     "data": {
      "text/plain": [
       "[[array([6.1, 2.9]), 'versicolor', 0.09999999999999964],\n",
       " [array([6.1, 3. ]), 'versicolor', 0.1414213562373093],\n",
       " [array([5.9, 3. ]), 'virginica', 0.1414213562373093],\n",
       " [array([6.1, 2.8]), 'versicolor', 0.1414213562373093],\n",
       " [array([5.9, 3. ]), 'versicolor', 0.1414213562373093],\n",
       " [array([6.2, 2.9]), 'versicolor', 0.20000000000000018],\n",
       " [array([5.8, 2.8]), 'virginica', 0.22360679774997916]]"
      ]
     },
     "execution_count": 11,
     "metadata": {},
     "output_type": "execute_result"
    }
   ],
   "source": [
    "# Check the k_nearest_neighbors function for a test data point\n",
    "\n",
    "k_nearest_neighbors(X_test[3], X_train, y_train, 7)"
   ]
  },
  {
   "cell_type": "code",
   "execution_count": 12,
   "id": "c7619445",
   "metadata": {},
   "outputs": [
    {
     "data": {
      "text/plain": [
       "'versicolor'"
      ]
     },
     "execution_count": 12,
     "metadata": {},
     "output_type": "execute_result"
    }
   ],
   "source": [
    "y_test[3]"
   ]
  },
  {
   "cell_type": "code",
   "execution_count": 13,
   "id": "a42edadf",
   "metadata": {},
   "outputs": [],
   "source": [
    "# We write a function that makes prediction for both classification and regression\n",
    "\n",
    "def knn_predict(point, \n",
    "                training_features, \n",
    "                training_labels, \n",
    "                k, \n",
    "                regression = False):\n",
    "    \n",
    "    neighbors = k_nearest_neighbors(point, \n",
    "                                    training_features, \n",
    "                                    training_labels, \n",
    "                                    k)\n",
    "    \n",
    "    labels = [x[1] for x in neighbors]\n",
    "    \n",
    "    if regression == False:\n",
    "        return max(labels, key = labels.count)\n",
    "    else:\n",
    "        return sum(x[1] for x in labels)/k"
   ]
  },
  {
   "cell_type": "code",
   "execution_count": 14,
   "id": "9f7674e6",
   "metadata": {},
   "outputs": [
    {
     "data": {
      "text/plain": [
       "'setosa'"
      ]
     },
     "execution_count": 14,
     "metadata": {},
     "output_type": "execute_result"
    }
   ],
   "source": [
    "labels = ['setosa', 'setosa', 'virginica', 'setosa', 'virginica']\n",
    "max(labels, key = labels.count)"
   ]
  },
  {
   "cell_type": "code",
   "execution_count": 15,
   "id": "70a803c6",
   "metadata": {},
   "outputs": [
    {
     "data": {
      "text/plain": [
       "'versicolor'"
      ]
     },
     "execution_count": 15,
     "metadata": {},
     "output_type": "execute_result"
    }
   ],
   "source": [
    "# Check this function\n",
    "\n",
    "knn_predict(X_test[3], X_train, y_train, 7)"
   ]
  },
  {
   "cell_type": "code",
   "execution_count": 16,
   "id": "aeb0047b",
   "metadata": {},
   "outputs": [],
   "source": [
    "def accuracy(test_features, \n",
    "             test_labels,\n",
    "             training_features, \n",
    "             training_labels,\n",
    "             k):\n",
    "    \n",
    "    correct = 0\n",
    "    for point, label in zip(test_features, test_labels):\n",
    "        correct += label == knn_predict(point, \n",
    "                                        training_features, \n",
    "                                        training_labels, \n",
    "                                        k)\n",
    "    return correct/len(test_features)"
   ]
  },
  {
   "cell_type": "code",
   "execution_count": 17,
   "id": "4ad94a9c",
   "metadata": {},
   "outputs": [
    {
     "data": {
      "text/plain": [
       "0.8"
      ]
     },
     "execution_count": 17,
     "metadata": {},
     "output_type": "execute_result"
    }
   ],
   "source": [
    "# Check this function\n",
    "\n",
    "accuracy(X_valid, y_valid, X_train, y_train, 15)"
   ]
  },
  {
   "cell_type": "code",
   "execution_count": 18,
   "id": "be30137b",
   "metadata": {},
   "outputs": [
    {
     "data": {
      "image/png": "[encoded data removed]",
      "text/plain": [
       "<Figure size 576x432 with 1 Axes>"
      ]
     },
     "metadata": {
      "needs_background": "light"
     },
     "output_type": "display_data"
    }
   ],
   "source": [
    "k_values = [k for k in range(3, 50, 2)]\n",
    "accuracy_values = [accuracy(X_valid,\n",
    "                            y_valid,\n",
    "                            X_train,\n",
    "                            y_train, k) for k in k_values]\n",
    "\n",
    "plt.figure(figsize = (8, 6))\n",
    "\n",
    "plt.plot(k_values, accuracy_values, marker = \"o\")\n",
    "plt.title('Accuracy Score on the Validation Data')\n",
    "plt.xlabel('k')\n",
    "plt.ylabel('Accuracy')\n",
    "plt.xticks(k_values)\n",
    "plt.grid();"
   ]
  },
  {
   "cell_type": "code",
   "execution_count": 19,
   "id": "0f6f9ae4",
   "metadata": {},
   "outputs": [
    {
     "data": {
      "text/plain": [
       "0.9"
      ]
     },
     "execution_count": 19,
     "metadata": {},
     "output_type": "execute_result"
    }
   ],
   "source": [
    "# We choose the optimal value for k from the above graph, \n",
    "# we fit the model again on the training data and \n",
    "# we report the error on the test data\n",
    "\n",
    "accuracy(X_test, y_test, X_train, y_train, 25)"
   ]
  },
  {
   "cell_type": "markdown",
   "id": "44837699",
   "metadata": {},
   "source": [
    "## 2) Use sklearn to implement K-NN "
   ]
  },
  {
   "cell_type": "code",
   "execution_count": null,
   "id": "7df17961",
   "metadata": {},
   "outputs": [],
   "source": [
    "from sklearn.neighbors import KNeighborsClassifier\n",
    "from sklearn.metrics import confusion_matrix, accuracy_score, classification_report\n",
    "\n",
    "X = df[[\"sepal_length\", \"sepal_width\"]]\n",
    "y = df[\"species\"]"
   ]
  },
  {
   "cell_type": "code",
   "execution_count": null,
   "id": "842396b2",
   "metadata": {},
   "outputs": [],
   "source": [
    "X_train_full, X_test, y_train_full, y_test = train_test_split(X, y, test_size=0.2, random_state=42)\n",
    "\n",
    "X_train, X_valid, y_train, y_valid = train_test_split(X_train_full, y_train_full, test_size=0.25, random_state=42)"
   ]
  },
  {
   "cell_type": "code",
   "execution_count": null,
   "id": "d804c792",
   "metadata": {},
   "outputs": [],
   "source": [
    "model = KNeighborsClassifier(n_neighbors=7)\n",
    "model.fit(X_train, y_train)"
   ]
  },
  {
   "cell_type": "code",
   "execution_count": null,
   "id": "e64fcc52",
   "metadata": {},
   "outputs": [],
   "source": [
    "y_pred = model.predict(X_valid)\n",
    "y_pred"
   ]
  },
  {
   "cell_type": "code",
   "execution_count": null,
   "id": "003224cc",
   "metadata": {},
   "outputs": [],
   "source": [
    "accuracy_score(y_valid, y_pred)"
   ]
  },
  {
   "cell_type": "code",
   "execution_count": null,
   "id": "19b677ab",
   "metadata": {},
   "outputs": [],
   "source": [
    "cm = confusion_matrix(y_valid, y_pred)\n",
    "cm"
   ]
  },
  {
   "cell_type": "code",
   "execution_count": null,
   "id": "ca2b913a",
   "metadata": {},
   "outputs": [],
   "source": [
    "sns.heatmap(cm,\n",
    "           annot=True,\n",
    "           annot_kws={\"size\":15},\n",
    "           xticklabels=['setosa', 'versicolor', 'virginica'],\n",
    "           yticklabels=['setosa', 'versicolor', 'virginica'])\n",
    "plt.xlabel('Predicted')\n",
    "plt.ylabel('Actual');"
   ]
  },
  {
   "cell_type": "code",
   "execution_count": null,
   "id": "86001161",
   "metadata": {},
   "outputs": [],
   "source": [
    "print(classification_report(y_valid, y_pred))"
   ]
  },
  {
   "cell_type": "code",
   "execution_count": null,
   "id": "b225b916",
   "metadata": {
    "scrolled": true
   },
   "outputs": [],
   "source": [
    "k_values = []\n",
    "acc_score = []\n",
    "\n",
    "for k in range(1, 50, 2):\n",
    "    model = KNeighborsClassifier(n_neighbors = k)\n",
    "    model.fit(X_train, y_train)\n",
    "    y_pred = model.predict(X_valid)\n",
    "    acc_score.append(accuracy_score(y_valid, y_pred))\n",
    "    k_values.append(k)\n",
    "\n",
    "\n",
    "plt.figure(figsize = (8, 6))\n",
    "\n",
    "plt.plot(k_values, acc_score, marker = \"o\")\n",
    "plt.title(\"Accuracy Score on the Validation Data\")\n",
    "plt.xlabel(\"k\")\n",
    "plt.ylabel(\"accuracy score\")\n",
    "plt.xticks(k_values)\n",
    "plt.grid();"
   ]
  },
  {
   "cell_type": "code",
   "execution_count": null,
   "id": "f2e74189",
   "metadata": {},
   "outputs": [],
   "source": [
    "m = max(acc_score)\n",
    "m"
   ]
  },
  {
   "cell_type": "code",
   "execution_count": null,
   "id": "df465221",
   "metadata": {},
   "outputs": [],
   "source": [
    "k_values[acc_score.index(m)]"
   ]
  },
  {
   "cell_type": "code",
   "execution_count": null,
   "id": "41e488dd",
   "metadata": {},
   "outputs": [],
   "source": [
    "model = KNeighborsClassifier(n_neighbors = 25)\n",
    "model.fit(X_train, y_train)\n",
    "y_pred = model.predict(X_test)\n",
    "accuracy_score(y_test, y_pred)"
   ]
  },
  {
   "cell_type": "markdown",
   "id": "e0b4d586",
   "metadata": {},
   "source": [
    "## 3) Use GridSearchCV and RandomizedSearchCV to select hyper-parameters"
   ]
  },
  {
   "cell_type": "code",
   "execution_count": null,
   "id": "7eec8b2e",
   "metadata": {},
   "outputs": [],
   "source": [
    "from sklearn.model_selection import cross_val_score, GridSearchCV, RandomizedSearchCV"
   ]
  },
  {
   "cell_type": "code",
   "execution_count": null,
   "id": "7aa27d04",
   "metadata": {},
   "outputs": [],
   "source": [
    "X = df[[\"sepal_length\", \"sepal_width\"]]\n",
    "y = df[\"species\"]\n",
    "\n",
    "X_train, X_test, y_train, y_test = train_test_split(X, y, test_size=0.2, random_state=42)"
   ]
  },
  {
   "cell_type": "code",
   "execution_count": null,
   "id": "7f817931",
   "metadata": {},
   "outputs": [],
   "source": [
    "cv_scores = cross_val_score(KNeighborsClassifier(n_neighbors=10), \n",
    "                            X_train, \n",
    "                            y_train, \n",
    "                            cv=5, # no shuffle, stratified for classifiers, default value 5\n",
    "                            #cv=KFold(n_splits=5, shuffle=True), \n",
    "                            #cv=StratifiedKFold(n_splits=5, shuffle=True),\n",
    "                            #cv=RepeatedKFold(n_splits=5, n_repeats=3),\n",
    "                            scoring='accuracy')\n",
    "\n",
    "cv_scores"
   ]
  },
  {
   "cell_type": "code",
   "execution_count": null,
   "id": "ec55ae54",
   "metadata": {},
   "outputs": [],
   "source": [
    "plt.plot(range(1, 6), cv_scores, marker='o')\n",
    "plt.ylim(0, 1)\n",
    "plt.ylabel('Accuracy score', fontsize=15)\n",
    "plt.xlabel('Fold', fontsize=15)\n",
    "plt.xticks(range(1,6))\n",
    "\n",
    "print(np.round(cv_scores,2))\n",
    "print('Average accuracy:', cv_scores.mean())\n",
    "print('Accuracy standard deviation:', cv_scores.std());  "
   ]
  },
  {
   "cell_type": "code",
   "execution_count": null,
   "id": "8d88cacd",
   "metadata": {},
   "outputs": [],
   "source": [
    "gs = GridSearchCV(estimator = KNeighborsClassifier(),\n",
    "                  param_grid = {\"n_neighbors\": range(1,51),\n",
    "                                \"weights\": ['uniform', 'distance'],\n",
    "                                \"p\": [1,2]},\n",
    "                  cv=5)\n",
    "\n",
    "gs.fit(X_train, y_train)\n",
    "\n",
    "gs.cv_results_"
   ]
  },
  {
   "cell_type": "code",
   "execution_count": null,
   "id": "1660dadf",
   "metadata": {},
   "outputs": [],
   "source": [
    "results = pd.DataFrame(gs.cv_results_)\n",
    "results"
   ]
  },
  {
   "cell_type": "code",
   "execution_count": null,
   "id": "fbc209c3",
   "metadata": {},
   "outputs": [],
   "source": [
    "results[[\"param_n_neighbors\", \"param_weights\", \"param_p\", \"mean_test_score\", \"rank_test_score\"]]"
   ]
  },
  {
   "cell_type": "code",
   "execution_count": null,
   "id": "610a3f6e",
   "metadata": {},
   "outputs": [],
   "source": [
    "gs.best_score_"
   ]
  },
  {
   "cell_type": "code",
   "execution_count": null,
   "id": "c2fdd489",
   "metadata": {},
   "outputs": [],
   "source": [
    "gs.best_params_"
   ]
  },
  {
   "cell_type": "code",
   "execution_count": null,
   "id": "36ea85e8",
   "metadata": {},
   "outputs": [],
   "source": [
    "y_pred = gs.predict(X_test)\n",
    "accuracy_score(y_test, y_pred)"
   ]
  },
  {
   "cell_type": "code",
   "execution_count": null,
   "id": "336d3cd6",
   "metadata": {},
   "outputs": [],
   "source": [
    "rs = RandomizedSearchCV(estimator = KNeighborsClassifier(),\n",
    "                        param_distributions = {\"n_neighbors\": range(1,51),\n",
    "                                               \"weights\": ['uniform', 'distance'],\n",
    "                                               \"p\": [1,2]},\n",
    "                        cv=5,\n",
    "                        n_iter=10)\n",
    "\n",
    "rs.fit(X_train, y_train)\n",
    "\n",
    "rs.best_score_"
   ]
  },
  {
   "cell_type": "code",
   "execution_count": null,
   "id": "ac733d91",
   "metadata": {},
   "outputs": [],
   "source": [
    "rs.best_params_"
   ]
  },
  {
   "cell_type": "code",
   "execution_count": null,
   "id": "62dcc8eb",
   "metadata": {},
   "outputs": [],
   "source": [
    "y_pred = rs.predict(X_test)\n",
    "accuracy_score(y_test, y_pred)"
   ]
  },
  {
   "cell_type": "markdown",
   "id": "0a6a0ac5",
   "metadata": {},
   "source": [
    "##  4) Use sklearn to implement K-NN and mlxtend to plot the desicion boundary"
   ]
  },
  {
   "cell_type": "code",
   "execution_count": null,
   "id": "cdabdabb",
   "metadata": {},
   "outputs": [],
   "source": [
    "#pip install mlxtend"
   ]
  },
  {
   "cell_type": "code",
   "execution_count": null,
   "id": "852bcf70",
   "metadata": {},
   "outputs": [],
   "source": [
    "from mlxtend.plotting import plot_decision_regions"
   ]
  },
  {
   "cell_type": "code",
   "execution_count": null,
   "id": "0ae1270c",
   "metadata": {},
   "outputs": [],
   "source": [
    "from sklearn.preprocessing import LabelEncoder\n",
    "\n",
    "le = LabelEncoder()\n",
    "y = le.fit_transform(y)\n",
    "y"
   ]
  },
  {
   "cell_type": "code",
   "execution_count": null,
   "id": "234947e1",
   "metadata": {},
   "outputs": [],
   "source": [
    "X_train, X_test, y_train, y_test = train_test_split(X, y, test_size=0.2, random_state=42)"
   ]
  },
  {
   "cell_type": "code",
   "execution_count": null,
   "id": "8a2ca98a",
   "metadata": {},
   "outputs": [],
   "source": [
    "k=50                # try k=50\n",
    "model = KNeighborsClassifier(n_neighbors=k)\n",
    "model.fit(X_train, y_train)"
   ]
  },
  {
   "cell_type": "code",
   "execution_count": null,
   "id": "5ebaad8e",
   "metadata": {},
   "outputs": [],
   "source": [
    "y_pred = model.predict(X_test)\n",
    "\n",
    "accuracy_score(y_test, y_pred)"
   ]
  },
  {
   "cell_type": "code",
   "execution_count": null,
   "id": "2615288d",
   "metadata": {},
   "outputs": [],
   "source": [
    "#plot_decision_regions(X_train.to_numpy(), y_train, clf = model)\n",
    "plot_decision_regions(X_test.to_numpy(), y_test, clf = model) # change to test data\n",
    "plt.xlabel('sepal length')\n",
    "plt.ylabel('sepal width')\n",
    "#plt.title(f\"Decision Regions using {k}-NN and the Test Data\");"
   ]
  },
  {
   "cell_type": "code",
   "execution_count": null,
   "id": "cccbb0cf",
   "metadata": {},
   "outputs": [],
   "source": []
  },
  {
   "cell_type": "code",
   "execution_count": null,
   "id": "617b739f",
   "metadata": {},
   "outputs": [],
   "source": []
  },
  {
   "cell_type": "code",
   "execution_count": null,
   "id": "142e6124",
   "metadata": {},
   "outputs": [],
   "source": []
  }
 ],
 "metadata": {
  "kernelspec": {
   "display_name": "Python 3 (ipykernel)",
   "language": "python",
   "name": "python3"
  },
  "language_info": {
   "codemirror_mode": {
    "name": "ipython",
    "version": 3
   },
   "file_extension": ".py",
   "mimetype": "text/x-python",
   "name": "python",
   "nbconvert_exporter": "python",
   "pygments_lexer": "ipython3",
   "version": "3.9.12"
  }
 },
 "nbformat": 4,
 "nbformat_minor": 5
}
