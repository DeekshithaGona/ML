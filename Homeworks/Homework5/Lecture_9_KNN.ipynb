{
 "cells": [
  {
   "cell_type": "markdown",
   "id": "a4c37e80",
   "metadata": {},
   "source": [
    "# K-Nearest Neighbors Algorithm (Classification)\n",
    "\n",
    " 1) Create a K-NN model from scratch \n",
    "\n",
    " 2) Use sklearn to implement K-NN \n",
    " \n",
    " 3) Use sklearn to implement K-NN; use GridSearchCV and RandomizedSearchCV to select hyper-parameters\n",
    " \n",
    " 4) Use sklearn to implement K-NN and mlxtend to plot the desicion boundary"
   ]
  },
  {
   "cell_type": "markdown",
   "id": "ba86dfb4",
   "metadata": {},
   "source": [
    "## 1) Create a K-NN model from scratch "
   ]
  },
  {
   "cell_type": "code",
   "execution_count": 1,
   "id": "5dc40bea",
   "metadata": {},
   "outputs": [],
   "source": [
    "import numpy as np\n",
    "import pandas as pd\n",
    "import matplotlib.pyplot as plt\n",
    "import seaborn as sns\n",
    "\n",
    "from sklearn.model_selection import train_test_split"
   ]
  },
  {
   "cell_type": "code",
   "execution_count": 2,
   "id": "3b2824ae-7533-4a9c-9290-fdb29dbf33f0",
   "metadata": {},
   "outputs": [],
   "source": [
    "url = \"https://archive.ics.uci.edu/ml/machine-learning-databases/abalone/abalone.data\"\n",
    "df = pd.read_csv(url)"
   ]
  },
  {
   "cell_type": "code",
   "execution_count": 8,
   "id": "eb1e6cd7-f256-417a-b26f-c67ca3adfa35",
   "metadata": {},
   "outputs": [],
   "source": [
    " df.columns = [\"Sex\", \"Length\", \"Diameter\", \"Height\", \"Whole weight\", \"Shucked weight\", \"Viscera weight\", \"Shell weight\", \"Rings\"]"
   ]
  },
  {
   "cell_type": "code",
   "execution_count": 4,
   "id": "a892af0d-6b17-4a0c-8ee9-ad6e79cabc1e",
   "metadata": {},
   "outputs": [
    {
     "data": {
      "text/html": [
       "<div>\n",
       "<style scoped>\n",
       "    .dataframe tbody tr th:only-of-type {\n",
       "        vertical-align: middle;\n",
       "    }\n",
       "\n",
       "    .dataframe tbody tr th {\n",
       "        vertical-align: top;\n",
       "    }\n",
       "\n",
       "    .dataframe thead th {\n",
       "        text-align: right;\n",
       "    }\n",
       "</style>\n",
       "<table border=\"1\" class=\"dataframe\">\n",
       "  <thead>\n",
       "    <tr style=\"text-align: right;\">\n",
       "      <th></th>\n",
       "      <th>Sex</th>\n",
       "      <th>Length</th>\n",
       "      <th>Diameter</th>\n",
       "      <th>Height</th>\n",
       "      <th>Whole weight</th>\n",
       "      <th>Shucked weight</th>\n",
       "      <th>Viscera weight</th>\n",
       "      <th>Shell weight</th>\n",
       "      <th>Rings</th>\n",
       "    </tr>\n",
       "  </thead>\n",
       "  <tbody>\n",
       "    <tr>\n",
       "      <th>0</th>\n",
       "      <td>M</td>\n",
       "      <td>0.350</td>\n",
       "      <td>0.265</td>\n",
       "      <td>0.090</td>\n",
       "      <td>0.2255</td>\n",
       "      <td>0.0995</td>\n",
       "      <td>0.0485</td>\n",
       "      <td>0.070</td>\n",
       "      <td>7</td>\n",
       "    </tr>\n",
       "    <tr>\n",
       "      <th>1</th>\n",
       "      <td>F</td>\n",
       "      <td>0.530</td>\n",
       "      <td>0.420</td>\n",
       "      <td>0.135</td>\n",
       "      <td>0.6770</td>\n",
       "      <td>0.2565</td>\n",
       "      <td>0.1415</td>\n",
       "      <td>0.210</td>\n",
       "      <td>9</td>\n",
       "    </tr>\n",
       "    <tr>\n",
       "      <th>2</th>\n",
       "      <td>M</td>\n",
       "      <td>0.440</td>\n",
       "      <td>0.365</td>\n",
       "      <td>0.125</td>\n",
       "      <td>0.5160</td>\n",
       "      <td>0.2155</td>\n",
       "      <td>0.1140</td>\n",
       "      <td>0.155</td>\n",
       "      <td>10</td>\n",
       "    </tr>\n",
       "    <tr>\n",
       "      <th>3</th>\n",
       "      <td>I</td>\n",
       "      <td>0.330</td>\n",
       "      <td>0.255</td>\n",
       "      <td>0.080</td>\n",
       "      <td>0.2050</td>\n",
       "      <td>0.0895</td>\n",
       "      <td>0.0395</td>\n",
       "      <td>0.055</td>\n",
       "      <td>7</td>\n",
       "    </tr>\n",
       "    <tr>\n",
       "      <th>4</th>\n",
       "      <td>I</td>\n",
       "      <td>0.425</td>\n",
       "      <td>0.300</td>\n",
       "      <td>0.095</td>\n",
       "      <td>0.3515</td>\n",
       "      <td>0.1410</td>\n",
       "      <td>0.0775</td>\n",
       "      <td>0.120</td>\n",
       "      <td>8</td>\n",
       "    </tr>\n",
       "  </tbody>\n",
       "</table>\n",
       "</div>"
      ],
      "text/plain": [
       "  Sex  Length  Diameter  Height  Whole weight  Shucked weight  Viscera weight  \\\n",
       "0   M   0.350     0.265   0.090        0.2255          0.0995          0.0485   \n",
       "1   F   0.530     0.420   0.135        0.6770          0.2565          0.1415   \n",
       "2   M   0.440     0.365   0.125        0.5160          0.2155          0.1140   \n",
       "3   I   0.330     0.255   0.080        0.2050          0.0895          0.0395   \n",
       "4   I   0.425     0.300   0.095        0.3515          0.1410          0.0775   \n",
       "\n",
       "   Shell weight  Rings  \n",
       "0         0.070      7  \n",
       "1         0.210      9  \n",
       "2         0.155     10  \n",
       "3         0.055      7  \n",
       "4         0.120      8  "
      ]
     },
     "execution_count": 4,
     "metadata": {},
     "output_type": "execute_result"
    }
   ],
   "source": [
    "df.head()"
   ]
  },
  {
   "cell_type": "code",
   "execution_count": 5,
   "id": "3212912c-e2c5-4c86-8a21-3300306b6526",
   "metadata": {},
   "outputs": [
    {
     "data": {
      "text/html": [
       "<div>\n",
       "<style scoped>\n",
       "    .dataframe tbody tr th:only-of-type {\n",
       "        vertical-align: middle;\n",
       "    }\n",
       "\n",
       "    .dataframe tbody tr th {\n",
       "        vertical-align: top;\n",
       "    }\n",
       "\n",
       "    .dataframe thead th {\n",
       "        text-align: right;\n",
       "    }\n",
       "</style>\n",
       "<table border=\"1\" class=\"dataframe\">\n",
       "  <thead>\n",
       "    <tr style=\"text-align: right;\">\n",
       "      <th></th>\n",
       "      <th>Length</th>\n",
       "      <th>Diameter</th>\n",
       "      <th>Height</th>\n",
       "      <th>Whole weight</th>\n",
       "      <th>Shucked weight</th>\n",
       "      <th>Viscera weight</th>\n",
       "      <th>Shell weight</th>\n",
       "      <th>Rings</th>\n",
       "    </tr>\n",
       "  </thead>\n",
       "  <tbody>\n",
       "    <tr>\n",
       "      <th>count</th>\n",
       "      <td>4176.000000</td>\n",
       "      <td>4176.000000</td>\n",
       "      <td>4176.000000</td>\n",
       "      <td>4176.000000</td>\n",
       "      <td>4176.00000</td>\n",
       "      <td>4176.000000</td>\n",
       "      <td>4176.000000</td>\n",
       "      <td>4176.000000</td>\n",
       "    </tr>\n",
       "    <tr>\n",
       "      <th>mean</th>\n",
       "      <td>0.524009</td>\n",
       "      <td>0.407892</td>\n",
       "      <td>0.139527</td>\n",
       "      <td>0.828818</td>\n",
       "      <td>0.35940</td>\n",
       "      <td>0.180613</td>\n",
       "      <td>0.238852</td>\n",
       "      <td>9.932471</td>\n",
       "    </tr>\n",
       "    <tr>\n",
       "      <th>std</th>\n",
       "      <td>0.120103</td>\n",
       "      <td>0.099250</td>\n",
       "      <td>0.041826</td>\n",
       "      <td>0.490424</td>\n",
       "      <td>0.22198</td>\n",
       "      <td>0.109620</td>\n",
       "      <td>0.139213</td>\n",
       "      <td>3.223601</td>\n",
       "    </tr>\n",
       "    <tr>\n",
       "      <th>min</th>\n",
       "      <td>0.075000</td>\n",
       "      <td>0.055000</td>\n",
       "      <td>0.000000</td>\n",
       "      <td>0.002000</td>\n",
       "      <td>0.00100</td>\n",
       "      <td>0.000500</td>\n",
       "      <td>0.001500</td>\n",
       "      <td>1.000000</td>\n",
       "    </tr>\n",
       "    <tr>\n",
       "      <th>25%</th>\n",
       "      <td>0.450000</td>\n",
       "      <td>0.350000</td>\n",
       "      <td>0.115000</td>\n",
       "      <td>0.441500</td>\n",
       "      <td>0.18600</td>\n",
       "      <td>0.093375</td>\n",
       "      <td>0.130000</td>\n",
       "      <td>8.000000</td>\n",
       "    </tr>\n",
       "    <tr>\n",
       "      <th>50%</th>\n",
       "      <td>0.545000</td>\n",
       "      <td>0.425000</td>\n",
       "      <td>0.140000</td>\n",
       "      <td>0.799750</td>\n",
       "      <td>0.33600</td>\n",
       "      <td>0.171000</td>\n",
       "      <td>0.234000</td>\n",
       "      <td>9.000000</td>\n",
       "    </tr>\n",
       "    <tr>\n",
       "      <th>75%</th>\n",
       "      <td>0.615000</td>\n",
       "      <td>0.480000</td>\n",
       "      <td>0.165000</td>\n",
       "      <td>1.153250</td>\n",
       "      <td>0.50200</td>\n",
       "      <td>0.253000</td>\n",
       "      <td>0.329000</td>\n",
       "      <td>11.000000</td>\n",
       "    </tr>\n",
       "    <tr>\n",
       "      <th>max</th>\n",
       "      <td>0.815000</td>\n",
       "      <td>0.650000</td>\n",
       "      <td>1.130000</td>\n",
       "      <td>2.825500</td>\n",
       "      <td>1.48800</td>\n",
       "      <td>0.760000</td>\n",
       "      <td>1.005000</td>\n",
       "      <td>29.000000</td>\n",
       "    </tr>\n",
       "  </tbody>\n",
       "</table>\n",
       "</div>"
      ],
      "text/plain": [
       "            Length     Diameter       Height  Whole weight  Shucked weight  \\\n",
       "count  4176.000000  4176.000000  4176.000000   4176.000000      4176.00000   \n",
       "mean      0.524009     0.407892     0.139527      0.828818         0.35940   \n",
       "std       0.120103     0.099250     0.041826      0.490424         0.22198   \n",
       "min       0.075000     0.055000     0.000000      0.002000         0.00100   \n",
       "25%       0.450000     0.350000     0.115000      0.441500         0.18600   \n",
       "50%       0.545000     0.425000     0.140000      0.799750         0.33600   \n",
       "75%       0.615000     0.480000     0.165000      1.153250         0.50200   \n",
       "max       0.815000     0.650000     1.130000      2.825500         1.48800   \n",
       "\n",
       "       Viscera weight  Shell weight        Rings  \n",
       "count     4176.000000   4176.000000  4176.000000  \n",
       "mean         0.180613      0.238852     9.932471  \n",
       "std          0.109620      0.139213     3.223601  \n",
       "min          0.000500      0.001500     1.000000  \n",
       "25%          0.093375      0.130000     8.000000  \n",
       "50%          0.171000      0.234000     9.000000  \n",
       "75%          0.253000      0.329000    11.000000  \n",
       "max          0.760000      1.005000    29.000000  "
      ]
     },
     "execution_count": 5,
     "metadata": {},
     "output_type": "execute_result"
    }
   ],
   "source": [
    "df.describe()"
   ]
  },
  {
   "cell_type": "code",
   "execution_count": 10,
   "id": "b03528ca-f192-4479-9f24-458495d77f5e",
   "metadata": {},
   "outputs": [
    {
     "data": {
      "image/png": "[encoded data removed]",
      "text/plain": [
       "<Figure size 800x600 with 1 Axes>"
      ]
     },
     "metadata": {},
     "output_type": "display_data"
    }
   ],
   "source": [
    "# Create a boxplot for all columns from 'Length' to 'Shell eight'\n",
    "df.loc[:, 'Length':'Shell weight'].boxplot(figsize=(8, 6))\n",
    "# Corrected title with matching quotes\n",
    "plt.title('Boxplot of Columns from \"Length\" to \"Shell weight\"')\n",
    "\n",
    "plt.xticks(rotation=45)  # Rotate x-axis labels for better readability\n",
    "plt.tight_layout()\n",
    "plt.show()\n"
   ]
  },
  {
   "cell_type": "code",
   "execution_count": 25,
   "id": "0b5eab75-2efa-4057-b0d0-4bb9a6f0125c",
   "metadata": {},
   "outputs": [],
   "source": [
    "from sklearn.preprocessing import LabelEncoder"
   ]
  },
  {
   "cell_type": "code",
   "execution_count": 26,
   "id": "b8a44357-51c6-4824-a476-ba1369278115",
   "metadata": {},
   "outputs": [],
   "source": [
    "# Initialize the LabelEncoder\n",
    "le = LabelEncoder() \n",
    "\n",
    "# Fit and transform the \"Sex\" column\n",
    "df[\"Sex\"] = le.fit_transform(df[\"Sex\"])"
   ]
  },
  {
   "cell_type": "code",
   "execution_count": 27,
   "id": "188c459f-5a0b-43ba-b5ea-b54fa0e31f9e",
   "metadata": {},
   "outputs": [
    {
     "data": {
      "text/html": [
       "<div>\n",
       "<style scoped>\n",
       "    .dataframe tbody tr th:only-of-type {\n",
       "        vertical-align: middle;\n",
       "    }\n",
       "\n",
       "    .dataframe tbody tr th {\n",
       "        vertical-align: top;\n",
       "    }\n",
       "\n",
       "    .dataframe thead th {\n",
       "        text-align: right;\n",
       "    }\n",
       "</style>\n",
       "<table border=\"1\" class=\"dataframe\">\n",
       "  <thead>\n",
       "    <tr style=\"text-align: right;\">\n",
       "      <th></th>\n",
       "      <th>Sex</th>\n",
       "      <th>Length</th>\n",
       "      <th>Diameter</th>\n",
       "      <th>Height</th>\n",
       "      <th>Whole weight</th>\n",
       "      <th>Shucked weight</th>\n",
       "      <th>Viscera weight</th>\n",
       "      <th>Shell weight</th>\n",
       "      <th>Rings</th>\n",
       "    </tr>\n",
       "  </thead>\n",
       "  <tbody>\n",
       "    <tr>\n",
       "      <th>count</th>\n",
       "      <td>4176.000000</td>\n",
       "      <td>4176.000000</td>\n",
       "      <td>4176.000000</td>\n",
       "      <td>4176.000000</td>\n",
       "      <td>4176.000000</td>\n",
       "      <td>4176.00000</td>\n",
       "      <td>4176.000000</td>\n",
       "      <td>4176.000000</td>\n",
       "      <td>4176.000000</td>\n",
       "    </tr>\n",
       "    <tr>\n",
       "      <th>mean</th>\n",
       "      <td>1.052682</td>\n",
       "      <td>0.524009</td>\n",
       "      <td>0.407892</td>\n",
       "      <td>0.139527</td>\n",
       "      <td>0.828818</td>\n",
       "      <td>0.35940</td>\n",
       "      <td>0.180613</td>\n",
       "      <td>0.238852</td>\n",
       "      <td>9.932471</td>\n",
       "    </tr>\n",
       "    <tr>\n",
       "      <th>std</th>\n",
       "      <td>0.822208</td>\n",
       "      <td>0.120103</td>\n",
       "      <td>0.099250</td>\n",
       "      <td>0.041826</td>\n",
       "      <td>0.490424</td>\n",
       "      <td>0.22198</td>\n",
       "      <td>0.109620</td>\n",
       "      <td>0.139213</td>\n",
       "      <td>3.223601</td>\n",
       "    </tr>\n",
       "    <tr>\n",
       "      <th>min</th>\n",
       "      <td>0.000000</td>\n",
       "      <td>0.075000</td>\n",
       "      <td>0.055000</td>\n",
       "      <td>0.000000</td>\n",
       "      <td>0.002000</td>\n",
       "      <td>0.00100</td>\n",
       "      <td>0.000500</td>\n",
       "      <td>0.001500</td>\n",
       "      <td>1.000000</td>\n",
       "    </tr>\n",
       "    <tr>\n",
       "      <th>25%</th>\n",
       "      <td>0.000000</td>\n",
       "      <td>0.450000</td>\n",
       "      <td>0.350000</td>\n",
       "      <td>0.115000</td>\n",
       "      <td>0.441500</td>\n",
       "      <td>0.18600</td>\n",
       "      <td>0.093375</td>\n",
       "      <td>0.130000</td>\n",
       "      <td>8.000000</td>\n",
       "    </tr>\n",
       "    <tr>\n",
       "      <th>50%</th>\n",
       "      <td>1.000000</td>\n",
       "      <td>0.545000</td>\n",
       "      <td>0.425000</td>\n",
       "      <td>0.140000</td>\n",
       "      <td>0.799750</td>\n",
       "      <td>0.33600</td>\n",
       "      <td>0.171000</td>\n",
       "      <td>0.234000</td>\n",
       "      <td>9.000000</td>\n",
       "    </tr>\n",
       "    <tr>\n",
       "      <th>75%</th>\n",
       "      <td>2.000000</td>\n",
       "      <td>0.615000</td>\n",
       "      <td>0.480000</td>\n",
       "      <td>0.165000</td>\n",
       "      <td>1.153250</td>\n",
       "      <td>0.50200</td>\n",
       "      <td>0.253000</td>\n",
       "      <td>0.329000</td>\n",
       "      <td>11.000000</td>\n",
       "    </tr>\n",
       "    <tr>\n",
       "      <th>max</th>\n",
       "      <td>2.000000</td>\n",
       "      <td>0.815000</td>\n",
       "      <td>0.650000</td>\n",
       "      <td>1.130000</td>\n",
       "      <td>2.825500</td>\n",
       "      <td>1.48800</td>\n",
       "      <td>0.760000</td>\n",
       "      <td>1.005000</td>\n",
       "      <td>29.000000</td>\n",
       "    </tr>\n",
       "  </tbody>\n",
       "</table>\n",
       "</div>"
      ],
      "text/plain": [
       "               Sex       Length     Diameter       Height  Whole weight  \\\n",
       "count  4176.000000  4176.000000  4176.000000  4176.000000   4176.000000   \n",
       "mean      1.052682     0.524009     0.407892     0.139527      0.828818   \n",
       "std       0.822208     0.120103     0.099250     0.041826      0.490424   \n",
       "min       0.000000     0.075000     0.055000     0.000000      0.002000   \n",
       "25%       0.000000     0.450000     0.350000     0.115000      0.441500   \n",
       "50%       1.000000     0.545000     0.425000     0.140000      0.799750   \n",
       "75%       2.000000     0.615000     0.480000     0.165000      1.153250   \n",
       "max       2.000000     0.815000     0.650000     1.130000      2.825500   \n",
       "\n",
       "       Shucked weight  Viscera weight  Shell weight        Rings  \n",
       "count      4176.00000     4176.000000   4176.000000  4176.000000  \n",
       "mean          0.35940        0.180613      0.238852     9.932471  \n",
       "std           0.22198        0.109620      0.139213     3.223601  \n",
       "min           0.00100        0.000500      0.001500     1.000000  \n",
       "25%           0.18600        0.093375      0.130000     8.000000  \n",
       "50%           0.33600        0.171000      0.234000     9.000000  \n",
       "75%           0.50200        0.253000      0.329000    11.000000  \n",
       "max           1.48800        0.760000      1.005000    29.000000  "
      ]
     },
     "execution_count": 27,
     "metadata": {},
     "output_type": "execute_result"
    }
   ],
   "source": [
    "df.describe()"
   ]
  },
  {
   "cell_type": "code",
   "execution_count": 11,
   "id": "e90bd57e",
   "metadata": {},
   "outputs": [],
   "source": [
    "X = df[[\"Length\", \"Diameter\", \"Height\", \"Whole weight\", \"Shucked weight\", \"Viscera weight\", \"Shell weight\"]].to_numpy()\n",
    "\n",
    "y = df[\"Rings\"].to_numpy()"
   ]
  },
  {
   "cell_type": "markdown",
   "id": "3a170a6c",
   "metadata": {},
   "source": [
    "---\n",
    "\n",
    "**Remark**: In machine learning we fit the model to the **training data** and we choose optimal hyper-parameters using the **validation data**. Then with those choices of hyper-parameters, we fit the model again to the training data, and we evaluate and report model prformance on the **test data**. \n",
    "\n",
    "---"
   ]
  },
  {
   "cell_type": "code",
   "execution_count": 12,
   "id": "f2f66f9d",
   "metadata": {},
   "outputs": [],
   "source": [
    "X_train_full, X_test, y_train_full, y_test = train_test_split(X, y, test_size=0.2, random_state=42)\n",
    "\n",
    "X_train, X_valid, y_train, y_valid = train_test_split(X_train_full, y_train_full, test_size=0.25, random_state=42)"
   ]
  },
  {
   "cell_type": "code",
   "execution_count": 30,
   "id": "347a4006",
   "metadata": {},
   "outputs": [
    {
     "data": {
      "text/plain": [
       "(2505, 7)"
      ]
     },
     "execution_count": 30,
     "metadata": {},
     "output_type": "execute_result"
    }
   ],
   "source": [
    "X_train.shape"
   ]
  },
  {
   "cell_type": "code",
   "execution_count": 31,
   "id": "b147c4cc",
   "metadata": {},
   "outputs": [
    {
     "data": {
      "text/plain": [
       "(835, 7)"
      ]
     },
     "execution_count": 31,
     "metadata": {},
     "output_type": "execute_result"
    }
   ],
   "source": [
    "X_valid.shape"
   ]
  },
  {
   "cell_type": "code",
   "execution_count": 32,
   "id": "3957d655",
   "metadata": {},
   "outputs": [
    {
     "data": {
      "text/plain": [
       "(836, 7)"
      ]
     },
     "execution_count": 32,
     "metadata": {},
     "output_type": "execute_result"
    }
   ],
   "source": [
    "X_test.shape"
   ]
  },
  {
   "cell_type": "code",
   "execution_count": 17,
   "id": "5e50a7a3-7c61-4c88-a223-97a75ddaf283",
   "metadata": {},
   "outputs": [
    {
     "data": {
      "text/plain": [
       "array(['M', 0.395, 0.28, 0.08, 0.266, 0.0995, 0.066, 0.09], dtype=object)"
      ]
     },
     "execution_count": 17,
     "metadata": {},
     "output_type": "execute_result"
    }
   ],
   "source": [
    "X_train[0]"
   ]
  },
  {
   "cell_type": "code",
   "execution_count": 13,
   "id": "82a54e52",
   "metadata": {},
   "outputs": [
    {
     "name": "stdout",
     "output_type": "stream",
     "text": [
      "The distance between X_train[0] and X_train[1] is 0.09659710140578756\n"
     ]
    }
   ],
   "source": [
    "# We define Euclidean distance function\n",
    "\n",
    "def distance(p, q):\n",
    "    return np.sqrt((p - q) @ (p - q))\n",
    "\n",
    "print(f\"The distance between X_train[0] and X_train[1] is {distance(X_train[0], X_train[1])}\")"
   ]
  },
  {
   "cell_type": "code",
   "execution_count": 15,
   "id": "f8f58403",
   "metadata": {},
   "outputs": [],
   "source": [
    "# We define a function that will create a list of k nearest neighbors from the training data set to a given test point\n",
    "# For each such neighbor, this list will store: features of that neighbor, its label, and its distance to the test point\n",
    "\n",
    "def k_nearest_neighbors(point, \n",
    "                        training_features, \n",
    "                        training_labels, \n",
    "                        k):\n",
    "\n",
    "    neighbors = []\n",
    "    \n",
    "    for p, l in zip(training_features, training_labels):\n",
    "        d = distance(point, p)\n",
    "        info = [p, l, d]\n",
    "        neighbors.append(info)\n",
    "        \n",
    "    neighbors.sort(key = lambda x : x[-1])\n",
    "    \n",
    "    return neighbors[:k]"
   ]
  },
  {
   "cell_type": "code",
   "execution_count": 16,
   "id": "2cbb6c6a",
   "metadata": {},
   "outputs": [
    {
     "data": {
      "text/plain": [
       "[[array([0.635 , 0.51  , 0.17  , 1.2235, 0.532 , 0.271 , 0.354 ]),\n",
       "  9,\n",
       "  0.014949916387726105],\n",
       " [array([0.65 , 0.495, 0.175, 1.227, 0.528, 0.258, 0.37 ]),\n",
       "  11,\n",
       "  0.024222923027578683],\n",
       " [array([0.625 , 0.495 , 0.175 , 1.2075, 0.531 , 0.281 , 0.3525]),\n",
       "  11,\n",
       "  0.03097983214931937],\n",
       " [array([0.635 , 0.515 , 0.165 , 1.229 , 0.5055, 0.2975, 0.3535]),\n",
       "  10,\n",
       "  0.035178118198675716],\n",
       " [array([0.625 , 0.485 , 0.165 , 1.2255, 0.5075, 0.296 , 0.36  ]),\n",
       "  10,\n",
       "  0.039080046059338264],\n",
       " [array([0.62  , 0.49  , 0.17  , 1.2105, 0.5185, 0.2555, 0.335 ]),\n",
       "  13,\n",
       "  0.04060788100849395],\n",
       " [array([0.63 , 0.49 , 0.155, 1.229, 0.535, 0.29 , 0.335]),\n",
       "  11,\n",
       "  0.041021335911937344]]"
      ]
     },
     "execution_count": 16,
     "metadata": {},
     "output_type": "execute_result"
    }
   ],
   "source": [
    "# Check the k_nearest_neighbors function for a test data point\n",
    "\n",
    "k_nearest_neighbors(X_test[3], X_train, y_train, 7)"
   ]
  },
  {
   "cell_type": "code",
   "execution_count": 17,
   "id": "c7619445",
   "metadata": {},
   "outputs": [
    {
     "data": {
      "text/plain": [
       "10"
      ]
     },
     "execution_count": 17,
     "metadata": {},
     "output_type": "execute_result"
    }
   ],
   "source": [
    "y_test[3]"
   ]
  },
  {
   "cell_type": "code",
   "execution_count": 18,
   "id": "a42edadf",
   "metadata": {},
   "outputs": [],
   "source": [
    "# We write a function that makes prediction for both classification and regression\n",
    "\n",
    "def knn_predict(point, \n",
    "                training_features, \n",
    "                training_labels, \n",
    "                k, \n",
    "                regression = False):\n",
    "    \n",
    "    neighbors = k_nearest_neighbors(point, \n",
    "                                    training_features, \n",
    "                                    training_labels, \n",
    "                                    k)\n",
    "    \n",
    "    labels = [x[1] for x in neighbors]\n",
    "    \n",
    "    if regression == False:\n",
    "        return max(labels, key = labels.count)\n",
    "    else:\n",
    "        return sum(labels)/k"
   ]
  },
  {
   "cell_type": "code",
   "execution_count": 19,
   "id": "70a803c6",
   "metadata": {},
   "outputs": [
    {
     "data": {
      "text/plain": [
       "10.714285714285714"
      ]
     },
     "execution_count": 19,
     "metadata": {},
     "output_type": "execute_result"
    }
   ],
   "source": [
    "# Check this function\n",
    "\n",
    "knn_predict(X_test[3], X_train, y_train, 7, regression = True)"
   ]
  },
  {
   "cell_type": "code",
   "execution_count": 16,
   "id": "aeb0047b",
   "metadata": {},
   "outputs": [],
   "source": [
    "def accuracy(test_features, \n",
    "             test_labels,\n",
    "             training_features, \n",
    "             training_labels,\n",
    "             k):\n",
    "    \n",
    "    correct = 0\n",
    "    for point, label in zip(test_features, test_labels):\n",
    "        correct += label == knn_predict(point, \n",
    "                                        training_features, \n",
    "                                        training_labels, \n",
    "                                        k)\n",
    "    return correct/len(test_features)"
   ]
  },
  {
   "cell_type": "code",
   "execution_count": 17,
   "id": "4ad94a9c",
   "metadata": {},
   "outputs": [
    {
     "data": {
      "text/plain": [
       "0.8"
      ]
     },
     "execution_count": 17,
     "metadata": {},
     "output_type": "execute_result"
    }
   ],
   "source": [
    "# Check this function\n",
    "\n",
    "accuracy(X_valid, y_valid, X_train, y_train, 15)"
   ]
  },
  {
   "cell_type": "code",
   "execution_count": 18,
   "id": "be30137b",
   "metadata": {},
   "outputs": [
    {
     "data": {
      "image/png": "[encoded data removed]",
      "text/plain": [
       "<Figure size 576x432 with 1 Axes>"
      ]
     },
     "metadata": {
      "needs_background": "light"
     },
     "output_type": "display_data"
    }
   ],
   "source": [
    "k_values = [k for k in range(3, 50, 2)]\n",
    "accuracy_values = [accuracy(X_valid,\n",
    "                            y_valid,\n",
    "                            X_train,\n",
    "                            y_train, k) for k in k_values]\n",
    "\n",
    "plt.figure(figsize = (8, 6))\n",
    "\n",
    "plt.plot(k_values, accuracy_values, marker = \"o\")\n",
    "plt.title('Accuracy Score on the Validation Data')\n",
    "plt.xlabel('k')\n",
    "plt.ylabel('Accuracy')\n",
    "plt.xticks(k_values)\n",
    "plt.grid();"
   ]
  },
  {
   "cell_type": "code",
   "execution_count": 19,
   "id": "0f6f9ae4",
   "metadata": {},
   "outputs": [
    {
     "data": {
      "text/plain": [
       "0.9"
      ]
     },
     "execution_count": 19,
     "metadata": {},
     "output_type": "execute_result"
    }
   ],
   "source": [
    "# We choose the optimal value for k from the above graph, \n",
    "# we fit the model again on the training data and \n",
    "# we report the error on the test data\n",
    "\n",
    "accuracy(X_test, y_test, X_train, y_train, 25)"
   ]
  },
  {
   "cell_type": "markdown",
   "id": "44837699",
   "metadata": {},
   "source": [
    "## 2) Use sklearn to implement K-NN "
   ]
  },
  {
   "cell_type": "code",
   "execution_count": null,
   "id": "7df17961",
   "metadata": {},
   "outputs": [],
   "source": [
    "from sklearn.neighbors import KNeighborsClassifier\n",
    "from sklearn.metrics import confusion_matrix, accuracy_score, classification_report\n",
    "\n",
    "X = df[[\"sepal_length\", \"sepal_width\"]]\n",
    "y = df[\"species\"]"
   ]
  },
  {
   "cell_type": "code",
   "execution_count": null,
   "id": "842396b2",
   "metadata": {},
   "outputs": [],
   "source": [
    "X_train_full, X_test, y_train_full, y_test = train_test_split(X, y, test_size=0.2, random_state=42)\n",
    "\n",
    "X_train, X_valid, y_train, y_valid = train_test_split(X_train_full, y_train_full, test_size=0.25, random_state=42)"
   ]
  },
  {
   "cell_type": "code",
   "execution_count": null,
   "id": "d804c792",
   "metadata": {},
   "outputs": [],
   "source": [
    "model = KNeighborsClassifier(n_neighbors=7)\n",
    "model.fit(X_train, y_train)"
   ]
  },
  {
   "cell_type": "code",
   "execution_count": null,
   "id": "e64fcc52",
   "metadata": {},
   "outputs": [],
   "source": [
    "y_pred = model.predict(X_valid)\n",
    "y_pred"
   ]
  },
  {
   "cell_type": "code",
   "execution_count": null,
   "id": "003224cc",
   "metadata": {},
   "outputs": [],
   "source": [
    "accuracy_score(y_valid, y_pred)"
   ]
  },
  {
   "cell_type": "code",
   "execution_count": null,
   "id": "19b677ab",
   "metadata": {},
   "outputs": [],
   "source": [
    "cm = confusion_matrix(y_valid, y_pred)\n",
    "cm"
   ]
  },
  {
   "cell_type": "code",
   "execution_count": null,
   "id": "ca2b913a",
   "metadata": {},
   "outputs": [],
   "source": [
    "sns.heatmap(cm,\n",
    "           annot=True,\n",
    "           annot_kws={\"size\":15},\n",
    "           xticklabels=['setosa', 'versicolor', 'virginica'],\n",
    "           yticklabels=['setosa', 'versicolor', 'virginica'])\n",
    "plt.xlabel('Predicted')\n",
    "plt.ylabel('Actual');"
   ]
  },
  {
   "cell_type": "code",
   "execution_count": null,
   "id": "86001161",
   "metadata": {},
   "outputs": [],
   "source": [
    "print(classification_report(y_valid, y_pred))"
   ]
  },
  {
   "cell_type": "code",
   "execution_count": null,
   "id": "b225b916",
   "metadata": {
    "scrolled": true
   },
   "outputs": [],
   "source": [
    "k_values = []\n",
    "acc_score = []\n",
    "\n",
    "for k in range(1, 50, 2):\n",
    "    model = KNeighborsClassifier(n_neighbors = k)\n",
    "    model.fit(X_train, y_train)\n",
    "    y_pred = model.predict(X_valid)\n",
    "    acc_score.append(accuracy_score(y_valid, y_pred))\n",
    "    k_values.append(k)\n",
    "\n",
    "\n",
    "plt.figure(figsize = (8, 6))\n",
    "\n",
    "plt.plot(k_values, acc_score, marker = \"o\")\n",
    "plt.title(\"Accuracy Score on the Validation Data\")\n",
    "plt.xlabel(\"k\")\n",
    "plt.ylabel(\"accuracy score\")\n",
    "plt.xticks(k_values)\n",
    "plt.grid();"
   ]
  },
  {
   "cell_type": "code",
   "execution_count": null,
   "id": "f2e74189",
   "metadata": {},
   "outputs": [],
   "source": [
    "m = max(acc_score)\n",
    "m"
   ]
  },
  {
   "cell_type": "code",
   "execution_count": null,
   "id": "df465221",
   "metadata": {},
   "outputs": [],
   "source": [
    "k_values[acc_score.index(m)]"
   ]
  },
  {
   "cell_type": "code",
   "execution_count": null,
   "id": "41e488dd",
   "metadata": {},
   "outputs": [],
   "source": [
    "model = KNeighborsClassifier(n_neighbors = 25)\n",
    "model.fit(X_train, y_train)\n",
    "y_pred = model.predict(X_test)\n",
    "accuracy_score(y_test, y_pred)"
   ]
  },
  {
   "cell_type": "markdown",
   "id": "e0b4d586",
   "metadata": {},
   "source": [
    "## 3) Use GridSearchCV and RandomizedSearchCV to select hyper-parameters"
   ]
  },
  {
   "cell_type": "code",
   "execution_count": null,
   "id": "7eec8b2e",
   "metadata": {},
   "outputs": [],
   "source": [
    "from sklearn.model_selection import cross_val_score, GridSearchCV, RandomizedSearchCV"
   ]
  },
  {
   "cell_type": "code",
   "execution_count": null,
   "id": "7aa27d04",
   "metadata": {},
   "outputs": [],
   "source": [
    "X = df[[\"sepal_length\", \"sepal_width\"]]\n",
    "y = df[\"species\"]\n",
    "\n",
    "X_train, X_test, y_train, y_test = train_test_split(X, y, test_size=0.2, random_state=42)"
   ]
  },
  {
   "cell_type": "code",
   "execution_count": null,
   "id": "7f817931",
   "metadata": {},
   "outputs": [],
   "source": [
    "cv_scores = cross_val_score(KNeighborsClassifier(n_neighbors=10), \n",
    "                            X_train, \n",
    "                            y_train, \n",
    "                            cv=5, # no shuffle, stratified for classifiers, default value 5\n",
    "                            #cv=KFold(n_splits=5, shuffle=True), \n",
    "                            #cv=StratifiedKFold(n_splits=5, shuffle=True),\n",
    "                            #cv=RepeatedKFold(n_splits=5, n_repeats=3),\n",
    "                            scoring='accuracy')\n",
    "\n",
    "cv_scores"
   ]
  },
  {
   "cell_type": "code",
   "execution_count": null,
   "id": "ec55ae54",
   "metadata": {},
   "outputs": [],
   "source": [
    "plt.plot(range(1, 6), cv_scores, marker='o')\n",
    "plt.ylim(0, 1)\n",
    "plt.ylabel('Accuracy score', fontsize=15)\n",
    "plt.xlabel('Fold', fontsize=15)\n",
    "plt.xticks(range(1,6))\n",
    "\n",
    "print(np.round(cv_scores,2))\n",
    "print('Average accuracy:', cv_scores.mean())\n",
    "print('Accuracy standard deviation:', cv_scores.std());  "
   ]
  },
  {
   "cell_type": "code",
   "execution_count": null,
   "id": "8d88cacd",
   "metadata": {},
   "outputs": [],
   "source": [
    "gs = GridSearchCV(estimator = KNeighborsClassifier(),\n",
    "                  param_grid = {\"n_neighbors\": range(1,51),\n",
    "                                \"weights\": ['uniform', 'distance'],\n",
    "                                \"p\": [1,2]},\n",
    "                  cv=5)\n",
    "\n",
    "gs.fit(X_train, y_train)\n",
    "\n",
    "gs.cv_results_"
   ]
  },
  {
   "cell_type": "code",
   "execution_count": null,
   "id": "1660dadf",
   "metadata": {},
   "outputs": [],
   "source": [
    "results = pd.DataFrame(gs.cv_results_)\n",
    "results"
   ]
  },
  {
   "cell_type": "code",
   "execution_count": null,
   "id": "fbc209c3",
   "metadata": {},
   "outputs": [],
   "source": [
    "results[[\"param_n_neighbors\", \"param_weights\", \"param_p\", \"mean_test_score\", \"rank_test_score\"]]"
   ]
  },
  {
   "cell_type": "code",
   "execution_count": null,
   "id": "610a3f6e",
   "metadata": {},
   "outputs": [],
   "source": [
    "gs.best_score_"
   ]
  },
  {
   "cell_type": "code",
   "execution_count": null,
   "id": "c2fdd489",
   "metadata": {},
   "outputs": [],
   "source": [
    "gs.best_params_"
   ]
  },
  {
   "cell_type": "code",
   "execution_count": null,
   "id": "36ea85e8",
   "metadata": {},
   "outputs": [],
   "source": [
    "y_pred = gs.predict(X_test)\n",
    "accuracy_score(y_test, y_pred)"
   ]
  },
  {
   "cell_type": "code",
   "execution_count": null,
   "id": "336d3cd6",
   "metadata": {},
   "outputs": [],
   "source": [
    "rs = RandomizedSearchCV(estimator = KNeighborsClassifier(),\n",
    "                        param_distributions = {\"n_neighbors\": range(1,51),\n",
    "                                               \"weights\": ['uniform', 'distance'],\n",
    "                                               \"p\": [1,2]},\n",
    "                        cv=5,\n",
    "                        n_iter=10)\n",
    "\n",
    "rs.fit(X_train, y_train)\n",
    "\n",
    "rs.best_score_"
   ]
  },
  {
   "cell_type": "code",
   "execution_count": null,
   "id": "ac733d91",
   "metadata": {},
   "outputs": [],
   "source": [
    "rs.best_params_"
   ]
  },
  {
   "cell_type": "code",
   "execution_count": null,
   "id": "62dcc8eb",
   "metadata": {},
   "outputs": [],
   "source": [
    "y_pred = rs.predict(X_test)\n",
    "accuracy_score(y_test, y_pred)"
   ]
  },
  {
   "cell_type": "markdown",
   "id": "0a6a0ac5",
   "metadata": {},
   "source": [
    "##  4) Use sklearn to implement K-NN and mlxtend to plot the desicion boundary"
   ]
  },
  {
   "cell_type": "code",
   "execution_count": null,
   "id": "cdabdabb",
   "metadata": {},
   "outputs": [],
   "source": [
    "#pip install mlxtend"
   ]
  },
  {
   "cell_type": "code",
   "execution_count": null,
   "id": "852bcf70",
   "metadata": {},
   "outputs": [],
   "source": [
    "from mlxtend.plotting import plot_decision_regions"
   ]
  },
  {
   "cell_type": "code",
   "execution_count": null,
   "id": "0ae1270c",
   "metadata": {},
   "outputs": [],
   "source": [
    "from sklearn.preprocessing import LabelEncoder\n",
    "\n",
    "le = LabelEncoder()\n",
    "y = le.fit_transform(y)\n",
    "y"
   ]
  },
  {
   "cell_type": "code",
   "execution_count": null,
   "id": "234947e1",
   "metadata": {},
   "outputs": [],
   "source": [
    "X_train, X_test, y_train, y_test = train_test_split(X, y, test_size=0.2, random_state=42)"
   ]
  },
  {
   "cell_type": "code",
   "execution_count": null,
   "id": "8a2ca98a",
   "metadata": {},
   "outputs": [],
   "source": [
    "k=50                # try k=50\n",
    "model = KNeighborsClassifier(n_neighbors=k)\n",
    "model.fit(X_train, y_train)"
   ]
  },
  {
   "cell_type": "code",
   "execution_count": null,
   "id": "5ebaad8e",
   "metadata": {},
   "outputs": [],
   "source": [
    "y_pred = model.predict(X_test)\n",
    "\n",
    "accuracy_score(y_test, y_pred)"
   ]
  },
  {
   "cell_type": "code",
   "execution_count": null,
   "id": "2615288d",
   "metadata": {},
   "outputs": [],
   "source": [
    "#plot_decision_regions(X_train.to_numpy(), y_train, clf = model)\n",
    "plot_decision_regions(X_test.to_numpy(), y_test, clf = model) # change to test data\n",
    "plt.xlabel('sepal length')\n",
    "plt.ylabel('sepal width')\n",
    "#plt.title(f\"Decision Regions using {k}-NN and the Test Data\");"
   ]
  },
  {
   "cell_type": "code",
   "execution_count": null,
   "id": "cccbb0cf",
   "metadata": {},
   "outputs": [],
   "source": []
  },
  {
   "cell_type": "code",
   "execution_count": null,
   "id": "617b739f",
   "metadata": {},
   "outputs": [],
   "source": []
  },
  {
   "cell_type": "code",
   "execution_count": null,
   "id": "142e6124",
   "metadata": {},
   "outputs": [],
   "source": []
  }
 ],
 "metadata": {
  "kernelspec": {
   "display_name": "GPU Environment",
   "language": "python",
   "name": "gpu-env"
  },
  "language_info": {
   "codemirror_mode": {
    "name": "ipython",
    "version": 3
   },
   "file_extension": ".py",
   "mimetype": "text/x-python",
   "name": "python",
   "nbconvert_exporter": "python",
   "pygments_lexer": "ipython3",
   "version": "3.9.19"
  }
 },
 "nbformat": 4,
 "nbformat_minor": 5
}
